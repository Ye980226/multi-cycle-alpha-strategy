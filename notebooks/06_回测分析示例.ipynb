{
  "cells": [
    {
      "cell_type": "raw",
      "metadata": {
        "vscode": {
          "languageId": "raw"
        }
      },
      "source": [
        "# 回测分析示例\n",
        "\n",
        "本笔记本展示了如何使用框架进行完整的回测分析，包括：\n",
        "\n",
        "1. 回测引擎设置\n",
        "2. 策略回测执行\n",
        "3. 性能指标计算\n",
        "4. 归因分析\n",
        "5. 可视化分析\n",
        "\n",
        "## 回测引擎\n",
        "\n",
        "回测是验证策略有效性的重要手段，需要考虑交易成本、滑点等现实因素。\n"
      ]
    },
    {
      "cell_type": "code",
      "execution_count": null,
      "metadata": {},
      "outputs": [
        {
          "name": "stdout",
          "output_type": "stream",
          "text": [
            "配置文件 ../config/default_config.yaml 加载成功\n",
            "✅ 配置加载完成\n",
            "回测设置:\n",
            "  初始资金: 1,000,000\n",
            "  交易成本: 0.0010\n",
            "  滑点: 0.0005\n",
            "\n",
            "价格数据形状: (252, 4)\n",
            "信号数据形状: (252, 4)\n",
            "\n",
            "✅ 数据准备完成\n"
          ]
        }
      ],
      "source": [
        "# 导入必要的库\n",
        "import sys\n",
        "sys.path.append('..')\n",
        "\n",
        "import pandas as pd\n",
        "import numpy as np\n",
        "import matplotlib.pyplot as plt\n",
        "from config.strategy_config import StrategyConfig\n",
        "\n",
        "# 初始化配置\n",
        "config = StrategyConfig(\"../config/default_config.yaml\")\n",
        "print(\"✅ 配置加载完成\")\n",
        "\n",
        "# 设置回测参数\n",
        "initial_capital = 1000000  # 初始资金\n",
        "commission = 0.001  # 交易费用\n",
        "slippage = 0.0005  # 滑点\n",
        "\n",
        "print(\"回测设置:\")\n",
        "print(f\"  初始资金: {initial_capital:,}\")\n",
        "print(f\"  交易成本: {commission:.4f}\")\n",
        "print(f\"  滑点: {slippage:.4f}\")\n",
        "\n",
        "# 创建示例回测数据\n",
        "dates = pd.date_range(\"2024-01-01\", periods=252, freq=\"D\")\n",
        "symbols = [\"000001\", \"000002\", \"600000\", \"600036\"]\n",
        "\n",
        "# 模拟价格数据\n",
        "np.random.seed(42)\n",
        "prices = pd.DataFrame(\n",
        "    np.random.randn(252, 4).cumsum(axis=0) + 100,\n",
        "    index=dates,\n",
        "    columns=symbols\n",
        ")\n",
        "\n",
        "# 模拟信号数据\n",
        "signals = pd.DataFrame(\n",
        "    np.random.randn(252, 4),\n",
        "    index=dates,\n",
        "    columns=symbols\n",
        ")\n",
        "\n",
        "print(f\"\\n价格数据形状: {prices.shape}\")\n",
        "print(f\"信号数据形状: {signals.shape}\")\n",
        "\n",
        "print(\"\\n✅ 数据准备完成\")\n"
      ]
    }
  ],
  "metadata": {
    "language_info": {
      "name": "python"
    }
  },
  "nbformat": 4,
  "nbformat_minor": 2
}
