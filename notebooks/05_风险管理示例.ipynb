{
  "cells": [
    {
      "cell_type": "raw",
      "metadata": {
        "vscode": {
          "languageId": "raw"
        }
      },
      "source": [
        "# 风险管理示例\n",
        "\n",
        "本笔记本展示了如何使用框架进行风险管理，包括：\n",
        "\n",
        "1. VaR和CVaR计算\n",
        "2. 回撤分析\n",
        "3. 压力测试\n",
        "4. 动态风险预算\n",
        "5. 实时风险监控\n",
        "\n",
        "## 风险度量\n",
        "\n",
        "风险管理是量化投资的重要组成部分，需要实时监控和控制各种风险。\n"
      ]
    },
    {
      "cell_type": "code",
      "execution_count": null,
      "metadata": {},
      "outputs": [
        {
          "name": "stdout",
          "output_type": "stream",
          "text": [
            "配置文件 ../config/default_config.yaml 加载成功\n",
            "✅ 配置加载完成\n",
            "组合收益数据形状: (252,)\n",
            "收益率统计:\n",
            "count    252.000000\n",
            "mean       0.000725\n",
            "std        0.019344\n",
            "min       -0.051595\n",
            "25%       -0.012911\n",
            "50%        0.001984\n",
            "75%        0.012661\n",
            "max        0.077855\n",
            "dtype: float64\n",
            "累积收益: 1.1455\n",
            "\n",
            "✅ 数据准备完成\n"
          ]
        }
      ],
      "source": [
        "# 导入必要的库\n",
        "import sys\n",
        "sys.path.append('..')\n",
        "\n",
        "import pandas as pd\n",
        "import numpy as np\n",
        "import matplotlib.pyplot as plt\n",
        "from config.strategy_config import StrategyConfig\n",
        "\n",
        "# 初始化配置\n",
        "config = StrategyConfig(\"../config/default_config.yaml\")\n",
        "print(\"✅ 配置加载完成\")\n",
        "\n",
        "# 创建示例组合收益数据\n",
        "np.random.seed(42)\n",
        "dates = pd.date_range(\"2024-01-01\", periods=252, freq=\"D\")\n",
        "portfolio_returns = pd.Series(\n",
        "    np.random.randn(252) * 0.02 + 0.0008,  # 年化收益8%，波动率20%\n",
        "    index=dates\n",
        ")\n",
        "\n",
        "print(f\"组合收益数据形状: {portfolio_returns.shape}\")\n",
        "print(f\"收益率统计:\")\n",
        "print(portfolio_returns.describe())\n",
        "\n",
        "# 计算累积收益\n",
        "cumulative_returns = (1 + portfolio_returns).cumprod()\n",
        "print(f\"累积收益: {cumulative_returns.iloc[-1]:.4f}\")\n",
        "\n",
        "print(\"\\n✅ 数据准备完成\")\n"
      ]
    },
    {
      "cell_type": "code",
      "execution_count": null,
      "metadata": {},
      "outputs": [
        {
          "name": "stdout",
          "output_type": "stream",
          "text": [
            "=== 风险度量计算 ===\n",
            "95% VaR: -0.0291\n",
            "99% VaR: -0.0387\n",
            "95% CVaR: -0.0362\n",
            "99% CVaR: -0.0434\n",
            "最大回撤: -0.2615\n",
            "\n",
            "=== 年化指标 ===\n",
            "年化收益率: 0.1826\n",
            "年化波动率: 0.3071\n",
            "夏普比率: 0.5947\n",
            "\n",
            "✅ 风险度量计算完成\n"
          ]
        }
      ],
      "source": [
        "# 风险度量计算\n",
        "print(\"=== 风险度量计算 ===\")\n",
        "\n",
        "# 计算VaR（Value at Risk）\n",
        "def calculate_var(returns, confidence=0.95):\n",
        "    return np.percentile(returns, (1 - confidence) * 100)\n",
        "\n",
        "# 计算CVaR（Conditional Value at Risk）\n",
        "def calculate_cvar(returns, confidence=0.95):\n",
        "    var = calculate_var(returns, confidence)\n",
        "    return returns[returns <= var].mean()\n",
        "\n",
        "# 计算最大回撤\n",
        "def calculate_max_drawdown(returns):\n",
        "    cumulative = (1 + returns).cumprod()\n",
        "    peak = cumulative.cummax()\n",
        "    drawdown = (cumulative - peak) / peak\n",
        "    return drawdown.min()\n",
        "\n",
        "# 计算各种风险指标\n",
        "var_95 = calculate_var(portfolio_returns, 0.95)\n",
        "var_99 = calculate_var(portfolio_returns, 0.99)\n",
        "cvar_95 = calculate_cvar(portfolio_returns, 0.95)\n",
        "cvar_99 = calculate_cvar(portfolio_returns, 0.99)\n",
        "max_drawdown = calculate_max_drawdown(portfolio_returns)\n",
        "\n",
        "print(f\"95% VaR: {var_95:.4f}\")\n",
        "print(f\"99% VaR: {var_99:.4f}\")\n",
        "print(f\"95% CVaR: {cvar_95:.4f}\")\n",
        "print(f\"99% CVaR: {cvar_99:.4f}\")\n",
        "print(f\"最大回撤: {max_drawdown:.4f}\")\n",
        "\n",
        "# 计算年化指标\n",
        "annual_return = portfolio_returns.mean() * 252\n",
        "annual_volatility = portfolio_returns.std() * np.sqrt(252)\n",
        "sharpe_ratio = annual_return / annual_volatility\n",
        "\n",
        "print(f\"\\n=== 年化指标 ===\")\n",
        "print(f\"年化收益率: {annual_return:.4f}\")\n",
        "print(f\"年化波动率: {annual_volatility:.4f}\")\n",
        "print(f\"夏普比率: {sharpe_ratio:.4f}\")\n",
        "\n",
        "print(\"\\n✅ 风险度量计算完成\")\n"
      ]
    }
  ],
  "metadata": {
    "language_info": {
      "name": "python"
    }
  },
  "nbformat": 4,
  "nbformat_minor": 2
}
