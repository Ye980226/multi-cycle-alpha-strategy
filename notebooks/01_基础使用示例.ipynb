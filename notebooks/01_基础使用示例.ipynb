{
  "cells": [
    {
      "cell_type": "raw",
      "metadata": {
        "vscode": {
          "languageId": "raw"
        }
      },
      "source": [
        "# 多周期Alpha策略框架 - 基础使用示例\n",
        "\n",
        "本笔记本展示了多周期Alpha策略框架的基本使用方法，包括：\n",
        "\n",
        "1. 框架初始化\n",
        "2. 配置设置\n",
        "3. 数据获取\n",
        "4. 简单策略运行\n",
        "5. 结果查看\n",
        "\n",
        "## 环境准备\n",
        "\n",
        "确保已经安装所有必要的依赖包。\n"
      ]
    },
    {
      "cell_type": "code",
      "execution_count": null,
      "metadata": {},
      "outputs": [
        {
          "name": "stdout",
          "output_type": "stream",
          "text": [
            "✅ 框架模块导入完成\n",
            "Python版本: 3.11.12 | packaged by conda-forge | (main, Apr 10 2025, 22:23:25) [GCC 13.3.0]\n",
            "NumPy版本: 2.2.5\n",
            "Pandas版本: 2.2.3\n"
          ]
        }
      ],
      "source": [
        "# 导入必要的库\n",
        "import sys\n",
        "import os\n",
        "sys.path.append('..')\n",
        "\n",
        "import pandas as pd\n",
        "import numpy as np\n",
        "import matplotlib.pyplot as plt\n",
        "import warnings\n",
        "warnings.filterwarnings('ignore')\n",
        "\n",
        "# 导入框架模块\n",
        "from config.strategy_config import StrategyConfig\n",
        "from data.data_manager import DataManager\n",
        "from factors.factor_engine import FactorEngine\n",
        "from models.model_manager import ModelManager\n",
        "from signals.signal_generator import SignalGenerator\n",
        "from portfolio.portfolio_optimizer import PortfolioOptimizer\n",
        "\n",
        "print(\"✅ 框架模块导入完成\")\n",
        "print(\"Python版本:\", sys.version)\n",
        "print(\"NumPy版本:\", np.__version__)\n",
        "print(\"Pandas版本:\", pd.__version__)\n"
      ]
    },
    {
      "cell_type": "raw",
      "metadata": {
        "vscode": {
          "languageId": "raw"
        }
      },
      "source": [
        "## 1. 配置初始化\n",
        "\n",
        "首先创建策略配置对象，并设置基本参数。\n"
      ]
    },
    {
      "cell_type": "code",
      "execution_count": null,
      "metadata": {},
      "outputs": [
        {
          "name": "stdout",
          "output_type": "stream",
          "text": [
            "配置文件 ../config/default_config.yaml 加载成功\n",
            "=== 数据配置 ===\n",
            "数据源: akshare\n",
            "频率: 1min\n",
            "基准: 000300.SH\n",
            "\n",
            "=== 因子配置 ===\n",
            "因子组: ['technical', 'fundamental', 'sentiment']\n",
            "回望期: [5, 10, 20, 60]\n",
            "\n",
            "=== 组合配置 ===\n",
            "优化方法: mean_variance\n",
            "最大仓位: 0.4\n",
            "再平衡频率: 1d\n",
            "\n",
            "✅ 配置初始化完成\n"
          ]
        }
      ],
      "source": [
        "# 初始化配置\n",
        "config = StrategyConfig(\"../config/default_config.yaml\")\n",
        "\n",
        "# 查看配置信息\n",
        "print(\"=== 数据配置 ===\")\n",
        "print(f\"数据源: {config.data_config.data_source}\")\n",
        "print(f\"频率: {config.data_config.frequency}\")\n",
        "print(f\"基准: {config.data_config.benchmark}\")\n",
        "\n",
        "print(\"\\n=== 因子配置 ===\")\n",
        "print(f\"因子组: {config.factor_config.factor_groups}\")\n",
        "print(f\"回望期: {config.factor_config.lookback_periods}\")\n",
        "\n",
        "print(\"\\n=== 组合配置 ===\")\n",
        "print(f\"优化方法: {config.portfolio_config.optimization_method}\")\n",
        "print(f\"最大仓位: {config.portfolio_config.max_position}\")\n",
        "print(f\"再平衡频率: {config.portfolio_config.rebalance_frequency}\")\n",
        "\n",
        "print(\"\\n✅ 配置初始化完成\")\n"
      ]
    },
    {
      "cell_type": "raw",
      "metadata": {
        "vscode": {
          "languageId": "raw"
        }
      },
      "source": [
        "## 2. 数据管理\n",
        "\n",
        "使用DataManager获取股票数据。\n"
      ]
    },
    {
      "cell_type": "code",
      "execution_count": null,
      "metadata": {},
      "outputs": [
        {
          "name": "stdout",
          "output_type": "stream",
          "text": [
            "2025-07-04 22:50:29,203 - data_manager - INFO - 数据管理器初始化完成，数据源: akshare\n",
            "获取股票数据: ['000001', '000002', '600000', '600036']\n",
            "✅ 数据管理器初始化完成\n",
            "提示: 实际使用时需要配置有效的数据源API\n"
          ]
        }
      ],
      "source": [
        "# 初始化数据管理器\n",
        "data_manager = DataManager(config.data_config.__dict__)\n",
        "\n",
        "# 获取测试股票数据\n",
        "test_symbols = [\"000001\", \"000002\", \"600000\", \"600036\"]\n",
        "print(f\"获取股票数据: {test_symbols}\")\n",
        "\n",
        "# 这里可以添加实际的数据获取代码\n",
        "# data = data_manager.get_stock_data(test_symbols, \"2024-01-01\", \"2024-01-31\")\n",
        "\n",
        "print(\"✅ 数据管理器初始化完成\")\n",
        "print(\"提示: 实际使用时需要配置有效的数据源API\")\n"
      ]
    }
  ],
  "metadata": {
    "kernelspec": {
      "display_name": "rl",
      "language": "python",
      "name": "python3"
    },
    "language_info": {
      "codemirror_mode": {
        "name": "ipython",
        "version": 3
      },
      "file_extension": ".py",
      "mimetype": "text/x-python",
      "name": "python",
      "nbconvert_exporter": "python",
      "pygments_lexer": "ipython3",
      "version": "3.11.12"
    }
  },
  "nbformat": 4,
  "nbformat_minor": 2
}
